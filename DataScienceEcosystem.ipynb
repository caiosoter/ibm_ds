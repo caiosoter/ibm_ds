{
 "cells": [
  {
   "cell_type": "markdown",
   "id": "e36ee90a-131d-49b6-b8ab-b0d92a2b135d",
   "metadata": {},
   "source": [
    "**Exercise 2: Create markdown cell with title of the notebook**"
   ]
  },
  {
   "cell_type": "markdown",
   "id": "7bc44b6d-4f02-4c85-a580-c04a312ef38b",
   "metadata": {},
   "source": [
    "# Data Science Tools and Ecosystem"
   ]
  },
  {
   "cell_type": "markdown",
   "id": "57921818-4878-4cde-bca2-a1c8f412ad3a",
   "metadata": {},
   "source": [
    "**Exercise 3 - Create a markdown cell for an introduction**"
   ]
  },
  {
   "cell_type": "markdown",
   "id": "74f43d2d-92bd-4389-b6e7-325f9fd66077",
   "metadata": {},
   "source": [
    "In this notebook, Data Science Tools and Ecosystem are summarized."
   ]
  },
  {
   "cell_type": "markdown",
   "id": "bbb5b162-2e80-4a18-a184-c51368d1d6cc",
   "metadata": {},
   "source": [
    "**Objectives:**\n",
    "- Popular Languages used in Data Science.\n",
    "- Popular Libraries used in Data Science.\n",
    "- Development tools for Data Scientists.\n",
    "- Titles of different styles."
   ]
  },
  {
   "cell_type": "markdown",
   "id": "16f2b93c-0cbe-4a9b-9b35-207b8ce1d5b7",
   "metadata": {},
   "source": [
    "**Exercise 4 - Create a markdown cell to list data science languages**"
   ]
  },
  {
   "cell_type": "markdown",
   "id": "f96ea6f8-37dd-4e55-98d1-dcf3e515649f",
   "metadata": {},
   "source": [
    "Some of the popular languages that Data Scientists use are:\n",
    "1. Python\n",
    "2. R\n",
    "3. SQL"
   ]
  },
  {
   "cell_type": "markdown",
   "id": "6690d39d-2b09-426c-89a7-358e803bc365",
   "metadata": {},
   "source": [
    "**Exercise 5 - Create a markdown cell to list data science libraries**"
   ]
  },
  {
   "cell_type": "markdown",
   "id": "5f89771e-ca4c-41ff-87f2-cc7aaceedff4",
   "metadata": {},
   "source": [
    "Some of the commonly used libraries used by Data Scientists include:\n",
    "1. Pandas\n",
    "2. Matplotlib\n",
    "3. Seaborn"
   ]
  },
  {
   "cell_type": "markdown",
   "id": "2041982a-4d91-4464-87c0-29dd52a1526f",
   "metadata": {},
   "source": [
    "**Exercise 6 - Create a markdown cell with a table of Data Science tools**"
   ]
  },
  {
   "cell_type": "markdown",
   "id": "4d60844c-87db-406a-b63a-b477e831eada",
   "metadata": {},
   "source": [
    "|Data Science Tools|\n",
    "--------------------\n",
    "|VS-Code|\n",
    "|JupyterLab|\n",
    "|Jupyter Notebok|"
   ]
  },
  {
   "cell_type": "markdown",
   "id": "179b6b3d-a479-463f-904d-cec38257d1ff",
   "metadata": {},
   "source": [
    "**Exercise 7 - Create a markdown cell introducing arithmetic expression examples**"
   ]
  },
  {
   "cell_type": "markdown",
   "id": "34152af8-1783-4119-bd68-6041a73f5a39",
   "metadata": {},
   "source": [
    "### Below are a few examples of evaluating arithmetic expressions in Python"
   ]
  },
  {
   "cell_type": "markdown",
   "id": "aa3ac3af-4048-4df3-b579-ecc9ae5a6232",
   "metadata": {},
   "source": [
    "**Exercise 8 - Create a code cell to multiply and add numbers**"
   ]
  },
  {
   "cell_type": "code",
   "execution_count": 3,
   "id": "f40e8e17-c228-4e67-a61a-1b70d9a61a9a",
   "metadata": {},
   "outputs": [
    {
     "data": {
      "text/plain": [
       "17"
      ]
     },
     "execution_count": 3,
     "metadata": {},
     "output_type": "execute_result"
    }
   ],
   "source": [
    "# This a simple arithmetic expression to mutiply then add integers\n",
    "(3*4)+5"
   ]
  },
  {
   "cell_type": "markdown",
   "id": "41029978-be78-4886-9ec4-09d902d8d49f",
   "metadata": {},
   "source": [
    "**Exercise 9 - Create a code cell to convert minutes to hours**"
   ]
  },
  {
   "cell_type": "code",
   "execution_count": 4,
   "id": "d4a93c32-93d2-4251-ba49-27897ccb671a",
   "metadata": {},
   "outputs": [
    {
     "data": {
      "text/plain": [
       "3.3333333333333335"
      ]
     },
     "execution_count": 4,
     "metadata": {},
     "output_type": "execute_result"
    }
   ],
   "source": [
    "# This will convert 200 minutes to hours by diving by 60\n",
    "200/60"
   ]
  },
  {
   "cell_type": "markdown",
   "id": "0d7cf314-1c52-47a3-96db-48bbb1fab537",
   "metadata": {},
   "source": [
    "**Exercise 10 - Insert a markdown cell to list Objectives**"
   ]
  },
  {
   "cell_type": "markdown",
   "id": "49b72afe-a586-4103-9e20-8adf940a12f7",
   "metadata": {},
   "source": [
    "In this notebook, Data Science Tools and Ecosystem are summarized."
   ]
  },
  {
   "cell_type": "markdown",
   "id": "a75a53cc-f3d2-4bfa-bbc7-2832527aae3d",
   "metadata": {},
   "source": [
    "**Objectives:**\n",
    "- Popular Languages used in Data Science.\n",
    "- Popular Libraries used in Data Science.\n",
    "- Development tools for Data Scientists.\n",
    "- Titles of different styles."
   ]
  },
  {
   "cell_type": "markdown",
   "id": "4a75c613-4a0b-4495-bb75-efe40955ad93",
   "metadata": {},
   "source": [
    "**Exercise 11 - Create a markdown cell to indicate the Author's name**"
   ]
  },
  {
   "cell_type": "markdown",
   "id": "ff473299-e364-4b68-b7b6-4625d75c7d88",
   "metadata": {},
   "source": [
    "## Author\n",
    " Caio Sóter de Barros Mota"
   ]
  }
 ],
 "metadata": {
  "kernelspec": {
   "display_name": "Python 3 (ipykernel)",
   "language": "python",
   "name": "python3"
  },
  "language_info": {
   "codemirror_mode": {
    "name": "ipython",
    "version": 3
   },
   "file_extension": ".py",
   "mimetype": "text/x-python",
   "name": "python",
   "nbconvert_exporter": "python",
   "pygments_lexer": "ipython3",
   "version": "3.9.13"
  }
 },
 "nbformat": 4,
 "nbformat_minor": 5
}
